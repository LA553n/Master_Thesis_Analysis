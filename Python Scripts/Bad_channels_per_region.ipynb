{
 "cells": [
  {
   "cell_type": "markdown",
   "metadata": {},
   "source": [
    "## Quick script to check the missing channels per ROI for each subject "
   ]
  },
  {
   "cell_type": "code",
   "execution_count": null,
   "metadata": {},
   "outputs": [
    {
     "name": "stdout",
     "output_type": "stream",
     "text": [
      "✓ Wrote long format to /Users/lucas.assen/Desktop/Master Thesis/bad_channels_long.csv\n",
      "✓ Wrote counts-wide format to /Users/lucas.assen/Desktop/Master Thesis/bad_channels_counts_wide.csv\n",
      "\n",
      "--- counts (wide) head() ---\n",
      "              participant_id  C  F1  F2  O  P1  P2  T1  T2\n",
      "0   10_ICA_cleaned_processed  0   0   0  0   0   0   0   0\n",
      "1  10c_ICA_cleaned_processed  0   0   1  0   0   0   2   0\n",
      "2   11_ICA_cleaned_processed  0   0   0  0   1   0   3   0\n",
      "3  11c_ICA_cleaned_processed  0   0   0  0   0   0   0   0\n",
      "4   12_ICA_cleaned_processed  0   0   1  1   0   0   0   0\n",
      "\n",
      "--- long format head() ---\n",
      "             participant_id region  n_bad bad_channels\n",
      "0  10_ICA_cleaned_processed     F1      0             \n",
      "1  10_ICA_cleaned_processed     F2      0             \n",
      "2  10_ICA_cleaned_processed      C      0             \n",
      "3  10_ICA_cleaned_processed      O      0             \n",
      "4  10_ICA_cleaned_processed     P1      0             \n"
     ]
    }
   ],
   "source": [
    "import re\n",
    "import pandas as pd\n",
    "from pathlib import Path\n",
    "\n",
    "# Setting the file path for the relevant files, should be changed if needed\n",
    "INPUT_CSV  = Path(\"/Users/lucas.assen/Desktop/Master Thesis/bad_channel_summary.csv\")     \n",
    "COUNTS_WIDE_CSV = Path(\"/Users/lucas.assen/Desktop/Master Thesis/bad_channels_counts_wide.csv\")\n",
    "LONG_CSV        = Path(\"/Users/lucas.assen/Desktop/Master Thesis/bad_channels_long.csv\")\n",
    "\n",
    "# Defining the relevant regions\n",
    "REGIONS = {\"F1\": [\"AF7\",\"AF3\",\"F7\",\"F5\",\"F3\",\"F1\"],\n",
    "           \"F2\": [\"AF4\",\"AF8\",\"F4\",\"F6\",\"F2\",\"F8\"],\n",
    "           \"C\" : [\"Fz\",\"FC1\",\"FCZ\",\"FC2\",\"C1\",\"Cz\",\"C2\",\"CP1\",\"CPZ\",\"CP2\",\"P1\",\"Pz\",\"P2\",\"POZ\"],\n",
    "           \"O\" : [\"PO7\",\"PO8\",\"PO3\",\"PO4\",\"O1\",\"OZ\",\"O2\"],\n",
    "           \"P1\": [\"TP7\",\"CP5\",\"CP3\",\"P7\",\"P5\",\"P3\"],\n",
    "           \"P2\": [\"CP4\",\"CP6\",\"CP8\",\"P4\",\"P6\",\"P8\"],\n",
    "           \"T1\": [\"FT7\",\"FC5\",\"FC3\",\"T7\",\"C5\",\"C3\"],\n",
    "           \"T2\": [\"FC4\",\"FC6\",\"FC8\",\"C4\",\"C6\",\"T8\"],}\n",
    "\n",
    "# Due to one of the csv file having a semocolon as separator we need a extra helper function to change it.\n",
    "def parse_bad_list(cell: str | float) -> list[str]:\n",
    "    if pd.isna(cell):\n",
    "        return []\n",
    "    cell = str(cell).strip()\n",
    "    return [] if not cell else re.split(r\"\\s*,\\s*\", cell)\n",
    "\n",
    "def main() -> None:\n",
    "    df = pd.read_csv(INPUT_CSV)\n",
    "    df[\"bad_list\"] = df[\"bad_ch_names\"].apply(parse_bad_list)\n",
    "\n",
    "    # First we create a long format file of the number of bad channels and which channels these are for each region per participant\n",
    "    records = []\n",
    "    for idx, row in df.iterrows():\n",
    "        participant = row.get(\"participant_id\", idx)  # fallback to row index\n",
    "        bad_set = set(row[\"bad_list\"])\n",
    "        for region, ch_list in REGIONS.items():\n",
    "            bad_in_region = sorted(bad_set.intersection(ch_list))\n",
    "            records.append({\"participant_id\": participant,\n",
    "                            \"region\": region,\n",
    "                            \"n_bad\": len(bad_in_region),\n",
    "                            \"bad_channels\": \", \".join(bad_in_region)})\n",
    "    long_df = pd.DataFrame.from_records(records)\n",
    "    long_df.to_csv(LONG_CSV, index=False)\n",
    "\n",
    "    # A wide version is also created which makes it easier to see the number of channels per region per participant\n",
    "    counts_wide = (long_df.pivot(index=\"participant_id\", columns=\"region\", values=\"n_bad\")\n",
    "               .fillna(0)\n",
    "               .astype(int)\n",
    "               .reset_index()\n",
    "               .rename_axis(columns=None))\n",
    "    counts_wide.to_csv(COUNTS_WIDE_CSV, index=False)\n",
    "    \n",
    "if __name__ == \"__main__\":\n",
    "    main()"
   ]
  }
 ],
 "metadata": {
  "kernelspec": {
   "display_name": "Python 3",
   "language": "python",
   "name": "python3"
  },
  "language_info": {
   "codemirror_mode": {
    "name": "ipython",
    "version": 3
   },
   "file_extension": ".py",
   "mimetype": "text/x-python",
   "name": "python",
   "nbconvert_exporter": "python",
   "pygments_lexer": "ipython3",
   "version": "3.12.7"
  }
 },
 "nbformat": 4,
 "nbformat_minor": 2
}
